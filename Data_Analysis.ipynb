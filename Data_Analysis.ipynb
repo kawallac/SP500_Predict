{
 "cells": [
  {
   "cell_type": "code",
   "execution_count": 1,
   "metadata": {
    "id": "XHPznv0A0JjV"
   },
   "outputs": [],
   "source": [
    "import pandas as pd # Need Pandas, yo!"
   ]
  },
  {
   "cell_type": "markdown",
   "metadata": {
    "id": "2_Jbprx-9hcJ",
    "jp-MarkdownHeadingCollapsed": true
   },
   "source": [
    "## Combing Multiple CSV Files"
   ]
  },
  {
   "cell_type": "code",
   "execution_count": null,
   "metadata": {
    "id": "JBxXJw99_bL3"
   },
   "outputs": [],
   "source": [
    "### Combining all the NYSE .csv files\n",
    "import glob\n",
    "    # module to used to retrieve files/pathnames files, https://docs.python.org/3/library/glob.html\n",
    "\n",
    "source_files = sorted(glob.glob('data/NYSE/*.csv'))\n",
    "  # .glob('yourpath\\*.csv') generates a list containing the file names\n",
    "  # sorted() arranges the list in alphabetical order\n",
    "\n",
    "### Iterate through source_files to combine into one df\n",
    "dataframe_list = [] # generating a list containing the df from each file\n",
    "for file in source_files:\n",
    "    df = pd.read_csv(file)\n",
    "    dataframe_list.append(df)\n",
    "\n",
    "# Concatenate the list, ie combine into one \n",
    "df_NYSE = pd.concat(dataframe_list)"
   ]
  },
  {
   "cell_type": "code",
   "execution_count": 61,
   "metadata": {
    "colab": {
     "base_uri": "https://localhost:8080/"
    },
    "executionInfo": {
     "elapsed": 52,
     "status": "ok",
     "timestamp": 1713650453034,
     "user": {
      "displayName": "Keith Wallace",
      "userId": "07553009819003568229"
     },
     "user_tz": 240
    },
    "id": "i2H0vPVDGp_g",
    "outputId": "e0cd7de0-eabb-4732-8af5-5f71dbaf1118",
    "scrolled": true
   },
   "outputs": [
    {
     "data": {
      "text/html": [
       "<div>\n",
       "<style scoped>\n",
       "    .dataframe tbody tr th:only-of-type {\n",
       "        vertical-align: middle;\n",
       "    }\n",
       "\n",
       "    .dataframe tbody tr th {\n",
       "        vertical-align: top;\n",
       "    }\n",
       "\n",
       "    .dataframe thead th {\n",
       "        text-align: right;\n",
       "    }\n",
       "</style>\n",
       "<table border=\"1\" class=\"dataframe\">\n",
       "  <thead>\n",
       "    <tr style=\"text-align: right;\">\n",
       "      <th></th>\n",
       "      <th>Symbol</th>\n",
       "      <th>Date</th>\n",
       "      <th>Open</th>\n",
       "      <th>High</th>\n",
       "      <th>Low</th>\n",
       "      <th>Close</th>\n",
       "      <th>Volume</th>\n",
       "    </tr>\n",
       "  </thead>\n",
       "  <tbody>\n",
       "    <tr>\n",
       "      <th>0</th>\n",
       "      <td>A</td>\n",
       "      <td>02 Jan 2023</td>\n",
       "      <td>149.6500</td>\n",
       "      <td>149.6500</td>\n",
       "      <td>149.6500</td>\n",
       "      <td>149.6500</td>\n",
       "      <td>0</td>\n",
       "    </tr>\n",
       "    <tr>\n",
       "      <th>1</th>\n",
       "      <td>AA</td>\n",
       "      <td>02 Jan 2023</td>\n",
       "      <td>45.4700</td>\n",
       "      <td>45.4700</td>\n",
       "      <td>45.4700</td>\n",
       "      <td>45.4700</td>\n",
       "      <td>0</td>\n",
       "    </tr>\n",
       "    <tr>\n",
       "      <th>2</th>\n",
       "      <td>AAC</td>\n",
       "      <td>02 Jan 2023</td>\n",
       "      <td>10.0700</td>\n",
       "      <td>10.0700</td>\n",
       "      <td>10.0700</td>\n",
       "      <td>10.0700</td>\n",
       "      <td>0</td>\n",
       "    </tr>\n",
       "    <tr>\n",
       "      <th>3</th>\n",
       "      <td>AAC.U</td>\n",
       "      <td>02 Jan 2023</td>\n",
       "      <td>10.1700</td>\n",
       "      <td>10.1700</td>\n",
       "      <td>10.1700</td>\n",
       "      <td>10.1700</td>\n",
       "      <td>0</td>\n",
       "    </tr>\n",
       "    <tr>\n",
       "      <th>4</th>\n",
       "      <td>AAC.W</td>\n",
       "      <td>02 Jan 2023</td>\n",
       "      <td>0.4663</td>\n",
       "      <td>0.4663</td>\n",
       "      <td>0.4663</td>\n",
       "      <td>0.4663</td>\n",
       "      <td>0</td>\n",
       "    </tr>\n",
       "    <tr>\n",
       "      <th>...</th>\n",
       "      <td>...</td>\n",
       "      <td>...</td>\n",
       "      <td>...</td>\n",
       "      <td>...</td>\n",
       "      <td>...</td>\n",
       "      <td>...</td>\n",
       "      <td>...</td>\n",
       "    </tr>\n",
       "    <tr>\n",
       "      <th>2946</th>\n",
       "      <td>ZTR</td>\n",
       "      <td>03 Nov 2023</td>\n",
       "      <td>5.0000</td>\n",
       "      <td>5.0979</td>\n",
       "      <td>5.0000</td>\n",
       "      <td>5.0800</td>\n",
       "      <td>328500</td>\n",
       "    </tr>\n",
       "    <tr>\n",
       "      <th>2947</th>\n",
       "      <td>ZTS</td>\n",
       "      <td>03 Nov 2023</td>\n",
       "      <td>164.2500</td>\n",
       "      <td>164.7200</td>\n",
       "      <td>159.3700</td>\n",
       "      <td>162.2300</td>\n",
       "      <td>1974800</td>\n",
       "    </tr>\n",
       "    <tr>\n",
       "      <th>2948</th>\n",
       "      <td>ZUO</td>\n",
       "      <td>03 Nov 2023</td>\n",
       "      <td>7.6500</td>\n",
       "      <td>7.8000</td>\n",
       "      <td>7.4800</td>\n",
       "      <td>7.7500</td>\n",
       "      <td>512100</td>\n",
       "    </tr>\n",
       "    <tr>\n",
       "      <th>2949</th>\n",
       "      <td>ZVIA</td>\n",
       "      <td>03 Nov 2023</td>\n",
       "      <td>2.0000</td>\n",
       "      <td>2.2661</td>\n",
       "      <td>1.9687</td>\n",
       "      <td>2.0700</td>\n",
       "      <td>247900</td>\n",
       "    </tr>\n",
       "    <tr>\n",
       "      <th>2950</th>\n",
       "      <td>ZWS</td>\n",
       "      <td>03 Nov 2023</td>\n",
       "      <td>28.7300</td>\n",
       "      <td>28.7850</td>\n",
       "      <td>28.4300</td>\n",
       "      <td>28.6500</td>\n",
       "      <td>1810200</td>\n",
       "    </tr>\n",
       "  </tbody>\n",
       "</table>\n",
       "<p>651636 rows × 7 columns</p>\n",
       "</div>"
      ],
      "text/plain": [
       "     Symbol         Date      Open      High       Low     Close   Volume\n",
       "0         A  02 Jan 2023  149.6500  149.6500  149.6500  149.6500        0\n",
       "1        AA  02 Jan 2023   45.4700   45.4700   45.4700   45.4700        0\n",
       "2       AAC  02 Jan 2023   10.0700   10.0700   10.0700   10.0700        0\n",
       "3     AAC.U  02 Jan 2023   10.1700   10.1700   10.1700   10.1700        0\n",
       "4     AAC.W  02 Jan 2023    0.4663    0.4663    0.4663    0.4663        0\n",
       "...     ...          ...       ...       ...       ...       ...      ...\n",
       "2946    ZTR  03 Nov 2023    5.0000    5.0979    5.0000    5.0800   328500\n",
       "2947    ZTS  03 Nov 2023  164.2500  164.7200  159.3700  162.2300  1974800\n",
       "2948    ZUO  03 Nov 2023    7.6500    7.8000    7.4800    7.7500   512100\n",
       "2949   ZVIA  03 Nov 2023    2.0000    2.2661    1.9687    2.0700   247900\n",
       "2950    ZWS  03 Nov 2023   28.7300   28.7850   28.4300   28.6500  1810200\n",
       "\n",
       "[651636 rows x 7 columns]"
      ]
     },
     "execution_count": 61,
     "metadata": {},
     "output_type": "execute_result"
    }
   ],
   "source": [
    "df_NYSE"
   ]
  },
  {
   "cell_type": "code",
   "execution_count": 17,
   "metadata": {},
   "outputs": [],
   "source": [
    "# df_NYSE[df_NYSE[\"Symbol\"] == \"VOO\"] \n",
    "    # This seaches for a ticker and returns the rows\n",
    "    # VOO does not exist in NYSE"
   ]
  },
  {
   "cell_type": "code",
   "execution_count": null,
   "metadata": {},
   "outputs": [],
   "source": [
    "# Exports df_NYSE to a csv file\n",
    "# df_NYSE.to_csv(\"df_NYSE.csv\", index=False)"
   ]
  },
  {
   "cell_type": "markdown",
   "metadata": {
    "id": "A2JCUFuT820x"
   },
   "source": [
    "# Outline\n",
    "1. Start with one stock and get the data set aligned with VOO.\n",
    "-the dates need to aline\n",
    "-calculate the percent change\n",
    "\n",
    "2. run correlation\n",
    "\n",
    "3. Then move to iterate through complete stock exchange to find stocks that correlate"
   ]
  },
  {
   "cell_type": "markdown",
   "metadata": {
    "id": "bB_XFLrH97SC"
   },
   "source": [
    "## Acheive Correlation with One Stock"
   ]
  },
  {
   "cell_type": "markdown",
   "metadata": {
    "id": "n3LpFp765keq"
   },
   "source": [
    "Determine stocks that have a positive correlation with VOO to predict price increases\n",
    "-Based on percent change from the previous day\n",
    "\n",
    "Then see if when the group of stocks has a positive gain does that translate into a postive gain the next day for VOO"
   ]
  },
  {
   "cell_type": "markdown",
   "metadata": {
    "id": "0EXhhgV-I_Y8",
    "jp-MarkdownHeadingCollapsed": true
   },
   "source": [
    "### Selecting a stock from NYSE"
   ]
  },
  {
   "cell_type": "code",
   "execution_count": 4,
   "metadata": {
    "colab": {
     "base_uri": "https://localhost:8080/",
     "height": 80
    },
    "executionInfo": {
     "elapsed": 50,
     "status": "ok",
     "timestamp": 1713650453039,
     "user": {
      "displayName": "Keith Wallace",
      "userId": "07553009819003568229"
     },
     "user_tz": 240
    },
    "id": "Bxag_nSR0ZtN",
    "outputId": "0c1691aa-94aa-4cd8-87ec-5afeb5a33651"
   },
   "outputs": [
    {
     "data": {
      "text/html": [
       "<div>\n",
       "<style scoped>\n",
       "    .dataframe tbody tr th:only-of-type {\n",
       "        vertical-align: middle;\n",
       "    }\n",
       "\n",
       "    .dataframe tbody tr th {\n",
       "        vertical-align: top;\n",
       "    }\n",
       "\n",
       "    .dataframe thead th {\n",
       "        text-align: right;\n",
       "    }\n",
       "</style>\n",
       "<table border=\"1\" class=\"dataframe\">\n",
       "  <thead>\n",
       "    <tr style=\"text-align: right;\">\n",
       "      <th></th>\n",
       "      <th>Symbol</th>\n",
       "      <th>Date</th>\n",
       "      <th>Open</th>\n",
       "      <th>High</th>\n",
       "      <th>Low</th>\n",
       "      <th>Close</th>\n",
       "      <th>Volume</th>\n",
       "    </tr>\n",
       "  </thead>\n",
       "  <tbody>\n",
       "    <tr>\n",
       "      <th>461</th>\n",
       "      <td>BRK.A</td>\n",
       "      <td>02 Jan 2023</td>\n",
       "      <td>468711.0</td>\n",
       "      <td>468711.0</td>\n",
       "      <td>468711.0</td>\n",
       "      <td>468711.0</td>\n",
       "      <td>0</td>\n",
       "    </tr>\n",
       "    <tr>\n",
       "      <th>461</th>\n",
       "      <td>BRK.A</td>\n",
       "      <td>03 Jan 2023</td>\n",
       "      <td>472950.0</td>\n",
       "      <td>473990.0</td>\n",
       "      <td>465019.8</td>\n",
       "      <td>469525.0</td>\n",
       "      <td>5200</td>\n",
       "    </tr>\n",
       "    <tr>\n",
       "      <th>461</th>\n",
       "      <td>BRK.A</td>\n",
       "      <td>04 Jan 2023</td>\n",
       "      <td>477479.0</td>\n",
       "      <td>479897.1</td>\n",
       "      <td>470151.0</td>\n",
       "      <td>476259.9</td>\n",
       "      <td>3700</td>\n",
       "    </tr>\n",
       "    <tr>\n",
       "      <th>461</th>\n",
       "      <td>BRK.A</td>\n",
       "      <td>05 Jan 2023</td>\n",
       "      <td>481229.0</td>\n",
       "      <td>481229.0</td>\n",
       "      <td>469227.5</td>\n",
       "      <td>473660.0</td>\n",
       "      <td>3400</td>\n",
       "    </tr>\n",
       "    <tr>\n",
       "      <th>461</th>\n",
       "      <td>BRK.A</td>\n",
       "      <td>06 Jan 2023</td>\n",
       "      <td>475989.8</td>\n",
       "      <td>484150.6</td>\n",
       "      <td>473300.0</td>\n",
       "      <td>481955.0</td>\n",
       "      <td>3800</td>\n",
       "    </tr>\n",
       "    <tr>\n",
       "      <th>...</th>\n",
       "      <td>...</td>\n",
       "      <td>...</td>\n",
       "      <td>...</td>\n",
       "      <td>...</td>\n",
       "      <td>...</td>\n",
       "      <td>...</td>\n",
       "      <td>...</td>\n",
       "    </tr>\n",
       "    <tr>\n",
       "      <th>452</th>\n",
       "      <td>BRK.A</td>\n",
       "      <td>30 Oct 2023</td>\n",
       "      <td>505702.5</td>\n",
       "      <td>513700.0</td>\n",
       "      <td>504050.1</td>\n",
       "      <td>513065.0</td>\n",
       "      <td>8800</td>\n",
       "    </tr>\n",
       "    <tr>\n",
       "      <th>453</th>\n",
       "      <td>BRK.A</td>\n",
       "      <td>31 Oct 2023</td>\n",
       "      <td>513630.2</td>\n",
       "      <td>518780.0</td>\n",
       "      <td>512036.3</td>\n",
       "      <td>517825.0</td>\n",
       "      <td>6600</td>\n",
       "    </tr>\n",
       "    <tr>\n",
       "      <th>451</th>\n",
       "      <td>BRK.A</td>\n",
       "      <td>01 Nov 2023</td>\n",
       "      <td>517662.0</td>\n",
       "      <td>538000.0</td>\n",
       "      <td>515921.3</td>\n",
       "      <td>523749.0</td>\n",
       "      <td>7400</td>\n",
       "    </tr>\n",
       "    <tr>\n",
       "      <th>451</th>\n",
       "      <td>BRK.A</td>\n",
       "      <td>02 Nov 2023</td>\n",
       "      <td>527362.0</td>\n",
       "      <td>530800.0</td>\n",
       "      <td>523701.0</td>\n",
       "      <td>530340.0</td>\n",
       "      <td>7100</td>\n",
       "    </tr>\n",
       "    <tr>\n",
       "      <th>449</th>\n",
       "      <td>BRK.A</td>\n",
       "      <td>03 Nov 2023</td>\n",
       "      <td>533032.1</td>\n",
       "      <td>537564.8</td>\n",
       "      <td>531024.0</td>\n",
       "      <td>533815.0</td>\n",
       "      <td>8000</td>\n",
       "    </tr>\n",
       "  </tbody>\n",
       "</table>\n",
       "<p>217 rows × 7 columns</p>\n",
       "</div>"
      ],
      "text/plain": [
       "    Symbol         Date      Open      High       Low     Close  Volume\n",
       "461  BRK.A  02 Jan 2023  468711.0  468711.0  468711.0  468711.0       0\n",
       "461  BRK.A  03 Jan 2023  472950.0  473990.0  465019.8  469525.0    5200\n",
       "461  BRK.A  04 Jan 2023  477479.0  479897.1  470151.0  476259.9    3700\n",
       "461  BRK.A  05 Jan 2023  481229.0  481229.0  469227.5  473660.0    3400\n",
       "461  BRK.A  06 Jan 2023  475989.8  484150.6  473300.0  481955.0    3800\n",
       "..     ...          ...       ...       ...       ...       ...     ...\n",
       "452  BRK.A  30 Oct 2023  505702.5  513700.0  504050.1  513065.0    8800\n",
       "453  BRK.A  31 Oct 2023  513630.2  518780.0  512036.3  517825.0    6600\n",
       "451  BRK.A  01 Nov 2023  517662.0  538000.0  515921.3  523749.0    7400\n",
       "451  BRK.A  02 Nov 2023  527362.0  530800.0  523701.0  530340.0    7100\n",
       "449  BRK.A  03 Nov 2023  533032.1  537564.8  531024.0  533815.0    8000\n",
       "\n",
       "[217 rows x 7 columns]"
      ]
     },
     "execution_count": 4,
     "metadata": {},
     "output_type": "execute_result"
    }
   ],
   "source": [
    "### Select a stock from NYSE dataset\n",
    "# Berkshire Hathaway\n",
    "df_BRK = df_NYSE[df_NYSE['Symbol'] == 'BRK.A'].copy()\n",
    "    # using .copy() to make df_BRK a new df and not a view of df_NYSE\n",
    "    # see ChatGTP chat, towards the end https://chatgpt.com/share/6823e473-f190-8005-a76d-adb3a633163f\n",
    "df_BRK"
   ]
  },
  {
   "cell_type": "markdown",
   "metadata": {
    "id": "CGg5_R78JFs6",
    "jp-MarkdownHeadingCollapsed": true
   },
   "source": [
    "### Creating VOO dataframe"
   ]
  },
  {
   "cell_type": "code",
   "execution_count": 5,
   "metadata": {
    "colab": {
     "base_uri": "https://localhost:8080/",
     "height": 423
    },
    "executionInfo": {
     "elapsed": 54,
     "status": "ok",
     "timestamp": 1713650453045,
     "user": {
      "displayName": "Keith Wallace",
      "userId": "07553009819003568229"
     },
     "user_tz": 240
    },
    "id": "s0-RjdYz3UHP",
    "outputId": "1d5125a2-2cad-4fbd-d55a-0b0afed2ebc6"
   },
   "outputs": [
    {
     "data": {
      "text/html": [
       "<div>\n",
       "<style scoped>\n",
       "    .dataframe tbody tr th:only-of-type {\n",
       "        vertical-align: middle;\n",
       "    }\n",
       "\n",
       "    .dataframe tbody tr th {\n",
       "        vertical-align: top;\n",
       "    }\n",
       "\n",
       "    .dataframe thead th {\n",
       "        text-align: right;\n",
       "    }\n",
       "</style>\n",
       "<table border=\"1\" class=\"dataframe\">\n",
       "  <thead>\n",
       "    <tr style=\"text-align: right;\">\n",
       "      <th></th>\n",
       "      <th>Symbol</th>\n",
       "      <th>Date</th>\n",
       "      <th>Open</th>\n",
       "      <th>High</th>\n",
       "      <th>Low</th>\n",
       "      <th>Close</th>\n",
       "      <th>Volume</th>\n",
       "    </tr>\n",
       "  </thead>\n",
       "  <tbody>\n",
       "    <tr>\n",
       "      <th>0</th>\n",
       "      <td>VOO</td>\n",
       "      <td>09 Sep 2010</td>\n",
       "      <td>102.50</td>\n",
       "      <td>102.500</td>\n",
       "      <td>101.1400</td>\n",
       "      <td>101.32</td>\n",
       "      <td>53000</td>\n",
       "    </tr>\n",
       "    <tr>\n",
       "      <th>1</th>\n",
       "      <td>VOO</td>\n",
       "      <td>10 Sep 2010</td>\n",
       "      <td>101.68</td>\n",
       "      <td>101.860</td>\n",
       "      <td>101.3000</td>\n",
       "      <td>101.78</td>\n",
       "      <td>17200</td>\n",
       "    </tr>\n",
       "    <tr>\n",
       "      <th>2</th>\n",
       "      <td>VOO</td>\n",
       "      <td>13 Sep 2010</td>\n",
       "      <td>102.96</td>\n",
       "      <td>103.140</td>\n",
       "      <td>102.5000</td>\n",
       "      <td>103.06</td>\n",
       "      <td>67500</td>\n",
       "    </tr>\n",
       "    <tr>\n",
       "      <th>3</th>\n",
       "      <td>VOO</td>\n",
       "      <td>14 Sep 2010</td>\n",
       "      <td>102.84</td>\n",
       "      <td>103.480</td>\n",
       "      <td>102.3800</td>\n",
       "      <td>103.04</td>\n",
       "      <td>118800</td>\n",
       "    </tr>\n",
       "    <tr>\n",
       "      <th>4</th>\n",
       "      <td>VOO</td>\n",
       "      <td>15 Sep 2010</td>\n",
       "      <td>102.62</td>\n",
       "      <td>103.380</td>\n",
       "      <td>102.4000</td>\n",
       "      <td>103.30</td>\n",
       "      <td>18500</td>\n",
       "    </tr>\n",
       "    <tr>\n",
       "      <th>...</th>\n",
       "      <td>...</td>\n",
       "      <td>...</td>\n",
       "      <td>...</td>\n",
       "      <td>...</td>\n",
       "      <td>...</td>\n",
       "      <td>...</td>\n",
       "      <td>...</td>\n",
       "    </tr>\n",
       "    <tr>\n",
       "      <th>3460</th>\n",
       "      <td>VOO</td>\n",
       "      <td>20 Dec 2023</td>\n",
       "      <td>435.51</td>\n",
       "      <td>437.305</td>\n",
       "      <td>429.9000</td>\n",
       "      <td>430.09</td>\n",
       "      <td>5783200</td>\n",
       "    </tr>\n",
       "    <tr>\n",
       "      <th>3461</th>\n",
       "      <td>VOO</td>\n",
       "      <td>21 Dec 2023</td>\n",
       "      <td>433.13</td>\n",
       "      <td>434.640</td>\n",
       "      <td>430.8552</td>\n",
       "      <td>434.28</td>\n",
       "      <td>4621600</td>\n",
       "    </tr>\n",
       "    <tr>\n",
       "      <th>3462</th>\n",
       "      <td>VOO</td>\n",
       "      <td>22 Dec 2023</td>\n",
       "      <td>435.46</td>\n",
       "      <td>436.838</td>\n",
       "      <td>433.4800</td>\n",
       "      <td>435.29</td>\n",
       "      <td>4037800</td>\n",
       "    </tr>\n",
       "    <tr>\n",
       "      <th>3463</th>\n",
       "      <td>VOO</td>\n",
       "      <td>26 Dec 2023</td>\n",
       "      <td>435.67</td>\n",
       "      <td>437.920</td>\n",
       "      <td>435.5800</td>\n",
       "      <td>437.10</td>\n",
       "      <td>3835800</td>\n",
       "    </tr>\n",
       "    <tr>\n",
       "      <th>3464</th>\n",
       "      <td>VOO</td>\n",
       "      <td>27 Dec 2023</td>\n",
       "      <td>436.89</td>\n",
       "      <td>438.020</td>\n",
       "      <td>436.4200</td>\n",
       "      <td>437.90</td>\n",
       "      <td>4271000</td>\n",
       "    </tr>\n",
       "  </tbody>\n",
       "</table>\n",
       "<p>3465 rows × 7 columns</p>\n",
       "</div>"
      ],
      "text/plain": [
       "     Symbol         Date    Open     High       Low   Close   Volume\n",
       "0       VOO  09 Sep 2010  102.50  102.500  101.1400  101.32    53000\n",
       "1       VOO  10 Sep 2010  101.68  101.860  101.3000  101.78    17200\n",
       "2       VOO  13 Sep 2010  102.96  103.140  102.5000  103.06    67500\n",
       "3       VOO  14 Sep 2010  102.84  103.480  102.3800  103.04   118800\n",
       "4       VOO  15 Sep 2010  102.62  103.380  102.4000  103.30    18500\n",
       "...     ...          ...     ...      ...       ...     ...      ...\n",
       "3460    VOO  20 Dec 2023  435.51  437.305  429.9000  430.09  5783200\n",
       "3461    VOO  21 Dec 2023  433.13  434.640  430.8552  434.28  4621600\n",
       "3462    VOO  22 Dec 2023  435.46  436.838  433.4800  435.29  4037800\n",
       "3463    VOO  26 Dec 2023  435.67  437.920  435.5800  437.10  3835800\n",
       "3464    VOO  27 Dec 2023  436.89  438.020  436.4200  437.90  4271000\n",
       "\n",
       "[3465 rows x 7 columns]"
      ]
     },
     "execution_count": 5,
     "metadata": {},
     "output_type": "execute_result"
    }
   ],
   "source": [
    "### Reading the VOO dataset\n",
    "df_VOO = pd.read_csv('Data/VOO/VOO_20100909_20231227.csv')\n",
    "\n",
    "# Quick look at the dataset\n",
    "df_VOO"
   ]
  },
  {
   "cell_type": "code",
   "execution_count": 6,
   "metadata": {},
   "outputs": [
    {
     "data": {
      "text/html": [
       "<div>\n",
       "<style scoped>\n",
       "    .dataframe tbody tr th:only-of-type {\n",
       "        vertical-align: middle;\n",
       "    }\n",
       "\n",
       "    .dataframe tbody tr th {\n",
       "        vertical-align: top;\n",
       "    }\n",
       "\n",
       "    .dataframe thead th {\n",
       "        text-align: right;\n",
       "    }\n",
       "</style>\n",
       "<table border=\"1\" class=\"dataframe\">\n",
       "  <thead>\n",
       "    <tr style=\"text-align: right;\">\n",
       "      <th></th>\n",
       "      <th>Open</th>\n",
       "      <th>High</th>\n",
       "      <th>Low</th>\n",
       "      <th>Close</th>\n",
       "      <th>Volume</th>\n",
       "    </tr>\n",
       "  </thead>\n",
       "  <tbody>\n",
       "    <tr>\n",
       "      <th>count</th>\n",
       "      <td>3465.000000</td>\n",
       "      <td>3465.000000</td>\n",
       "      <td>3465.000000</td>\n",
       "      <td>3465.000000</td>\n",
       "      <td>3.465000e+03</td>\n",
       "    </tr>\n",
       "    <tr>\n",
       "      <th>mean</th>\n",
       "      <td>238.853692</td>\n",
       "      <td>240.061465</td>\n",
       "      <td>237.527059</td>\n",
       "      <td>238.886846</td>\n",
       "      <td>2.578670e+06</td>\n",
       "    </tr>\n",
       "    <tr>\n",
       "      <th>std</th>\n",
       "      <td>95.826097</td>\n",
       "      <td>96.417288</td>\n",
       "      <td>95.203775</td>\n",
       "      <td>95.846600</td>\n",
       "      <td>2.321248e+06</td>\n",
       "    </tr>\n",
       "    <tr>\n",
       "      <th>min</th>\n",
       "      <td>99.140000</td>\n",
       "      <td>101.860000</td>\n",
       "      <td>98.240000</td>\n",
       "      <td>100.340000</td>\n",
       "      <td>0.000000e+00</td>\n",
       "    </tr>\n",
       "    <tr>\n",
       "      <th>25%</th>\n",
       "      <td>166.030000</td>\n",
       "      <td>166.510000</td>\n",
       "      <td>165.650000</td>\n",
       "      <td>166.260000</td>\n",
       "      <td>1.027000e+06</td>\n",
       "    </tr>\n",
       "    <tr>\n",
       "      <th>50%</th>\n",
       "      <td>218.700000</td>\n",
       "      <td>219.380000</td>\n",
       "      <td>217.860000</td>\n",
       "      <td>218.850000</td>\n",
       "      <td>2.091400e+06</td>\n",
       "    </tr>\n",
       "    <tr>\n",
       "      <th>75%</th>\n",
       "      <td>308.600000</td>\n",
       "      <td>310.270000</td>\n",
       "      <td>306.090000</td>\n",
       "      <td>308.340000</td>\n",
       "      <td>3.439100e+06</td>\n",
       "    </tr>\n",
       "    <tr>\n",
       "      <th>max</th>\n",
       "      <td>440.580000</td>\n",
       "      <td>441.260000</td>\n",
       "      <td>437.655000</td>\n",
       "      <td>439.250000</td>\n",
       "      <td>2.466920e+07</td>\n",
       "    </tr>\n",
       "  </tbody>\n",
       "</table>\n",
       "</div>"
      ],
      "text/plain": [
       "              Open         High          Low        Close        Volume\n",
       "count  3465.000000  3465.000000  3465.000000  3465.000000  3.465000e+03\n",
       "mean    238.853692   240.061465   237.527059   238.886846  2.578670e+06\n",
       "std      95.826097    96.417288    95.203775    95.846600  2.321248e+06\n",
       "min      99.140000   101.860000    98.240000   100.340000  0.000000e+00\n",
       "25%     166.030000   166.510000   165.650000   166.260000  1.027000e+06\n",
       "50%     218.700000   219.380000   217.860000   218.850000  2.091400e+06\n",
       "75%     308.600000   310.270000   306.090000   308.340000  3.439100e+06\n",
       "max     440.580000   441.260000   437.655000   439.250000  2.466920e+07"
      ]
     },
     "execution_count": 6,
     "metadata": {},
     "output_type": "execute_result"
    }
   ],
   "source": [
    "df_VOO.describe()"
   ]
  },
  {
   "cell_type": "markdown",
   "metadata": {
    "id": "yJ2c0-uWJQOx",
    "jp-MarkdownHeadingCollapsed": true
   },
   "source": [
    "### Adding percent change to both dfs"
   ]
  },
  {
   "cell_type": "markdown",
   "metadata": {
    "jp-MarkdownHeadingCollapsed": true
   },
   "source": [
    "#### Percent change to the stock df"
   ]
  },
  {
   "cell_type": "code",
   "execution_count": 7,
   "metadata": {
    "colab": {
     "base_uri": "https://localhost:8080/",
     "height": 458
    },
    "executionInfo": {
     "elapsed": 53,
     "status": "ok",
     "timestamp": 1713650453046,
     "user": {
      "displayName": "Keith Wallace",
      "userId": "07553009819003568229"
     },
     "user_tz": 240
    },
    "id": "7mdqocwW1U31",
    "outputId": "aed4aa6a-fa11-4591-c174-3491220f3669",
    "scrolled": true
   },
   "outputs": [
    {
     "name": "stdout",
     "output_type": "stream",
     "text": [
      "468711.0\n",
      "217\n"
     ]
    },
    {
     "data": {
      "text/plain": [
       "Index([461, 461, 461, 461, 461, 461, 461, 461, 461, 461,\n",
       "       ...\n",
       "       452, 460, 459, 454, 459, 452, 453, 451, 451, 449],\n",
       "      dtype='int64', length=217)"
      ]
     },
     "execution_count": 7,
     "metadata": {},
     "output_type": "execute_result"
    }
   ],
   "source": [
    "### Add column to df_BRK for the percent change\n",
    "\n",
    "# Test to understand .iloc\n",
    "print(df_BRK.iloc[0,5]) # syntax [row,column]\n",
    "\n",
    "# Loop to calculate the percent of change\n",
    "i = 0\n",
    "percent_gain = []\n",
    "while i < len(df_BRK['Close'])-1: # iterating over 'close' column, have to go -1 the length otherwise the loop goes out of 'bounds'\n",
    "  percent_gain.append((df_BRK.iloc[i+1,5]-df_BRK.iloc[i,5])/df_BRK.iloc[i,5]) # percent change formula (x2-x1)/x1\n",
    "  i+=1\n",
    "\n",
    "# adding 0 at the begining of the list\n",
    "# recall percent change is not possible for the first date in the df\n",
    "percent_gain.insert(0,0) # syntax .insert(index,value) / lets you insert a new item before the given position, shifting all later items one slot to the right.\n",
    "print(len(percent_gain))\n",
    "\n",
    "# Add the percent_gain list to the df\n",
    "df_BRK['Gain'] = percent_gain\n",
    "df_BRK.index\n"
   ]
  },
  {
   "cell_type": "markdown",
   "metadata": {
    "jp-MarkdownHeadingCollapsed": true
   },
   "source": [
    "#### Percent change to VOO df"
   ]
  },
  {
   "cell_type": "code",
   "execution_count": 10,
   "metadata": {
    "colab": {
     "base_uri": "https://localhost:8080/",
     "height": 458
    },
    "executionInfo": {
     "elapsed": 619,
     "status": "ok",
     "timestamp": 1713650453620,
     "user": {
      "displayName": "Keith Wallace",
      "userId": "07553009819003568229"
     },
     "user_tz": 240
    },
    "id": "UNBdVPdcIWKL",
    "outputId": "4f268022-e5aa-410f-f3a8-4e8af484c751"
   },
   "outputs": [
    {
     "name": "stdout",
     "output_type": "stream",
     "text": [
      "101.32\n",
      "3465\n"
     ]
    },
    {
     "data": {
      "text/html": [
       "<div>\n",
       "<style scoped>\n",
       "    .dataframe tbody tr th:only-of-type {\n",
       "        vertical-align: middle;\n",
       "    }\n",
       "\n",
       "    .dataframe tbody tr th {\n",
       "        vertical-align: top;\n",
       "    }\n",
       "\n",
       "    .dataframe thead th {\n",
       "        text-align: right;\n",
       "    }\n",
       "</style>\n",
       "<table border=\"1\" class=\"dataframe\">\n",
       "  <thead>\n",
       "    <tr style=\"text-align: right;\">\n",
       "      <th></th>\n",
       "      <th>Symbol</th>\n",
       "      <th>Date</th>\n",
       "      <th>Open</th>\n",
       "      <th>High</th>\n",
       "      <th>Low</th>\n",
       "      <th>Close</th>\n",
       "      <th>Volume</th>\n",
       "      <th>Gain</th>\n",
       "    </tr>\n",
       "  </thead>\n",
       "  <tbody>\n",
       "    <tr>\n",
       "      <th>0</th>\n",
       "      <td>VOO</td>\n",
       "      <td>09 Sep 2010</td>\n",
       "      <td>102.50</td>\n",
       "      <td>102.500</td>\n",
       "      <td>101.1400</td>\n",
       "      <td>101.32</td>\n",
       "      <td>53000</td>\n",
       "      <td>0.000000</td>\n",
       "    </tr>\n",
       "    <tr>\n",
       "      <th>1</th>\n",
       "      <td>VOO</td>\n",
       "      <td>10 Sep 2010</td>\n",
       "      <td>101.68</td>\n",
       "      <td>101.860</td>\n",
       "      <td>101.3000</td>\n",
       "      <td>101.78</td>\n",
       "      <td>17200</td>\n",
       "      <td>0.004540</td>\n",
       "    </tr>\n",
       "    <tr>\n",
       "      <th>2</th>\n",
       "      <td>VOO</td>\n",
       "      <td>13 Sep 2010</td>\n",
       "      <td>102.96</td>\n",
       "      <td>103.140</td>\n",
       "      <td>102.5000</td>\n",
       "      <td>103.06</td>\n",
       "      <td>67500</td>\n",
       "      <td>0.012576</td>\n",
       "    </tr>\n",
       "    <tr>\n",
       "      <th>3</th>\n",
       "      <td>VOO</td>\n",
       "      <td>14 Sep 2010</td>\n",
       "      <td>102.84</td>\n",
       "      <td>103.480</td>\n",
       "      <td>102.3800</td>\n",
       "      <td>103.04</td>\n",
       "      <td>118800</td>\n",
       "      <td>-0.000194</td>\n",
       "    </tr>\n",
       "    <tr>\n",
       "      <th>4</th>\n",
       "      <td>VOO</td>\n",
       "      <td>15 Sep 2010</td>\n",
       "      <td>102.62</td>\n",
       "      <td>103.380</td>\n",
       "      <td>102.4000</td>\n",
       "      <td>103.30</td>\n",
       "      <td>18500</td>\n",
       "      <td>0.002523</td>\n",
       "    </tr>\n",
       "    <tr>\n",
       "      <th>...</th>\n",
       "      <td>...</td>\n",
       "      <td>...</td>\n",
       "      <td>...</td>\n",
       "      <td>...</td>\n",
       "      <td>...</td>\n",
       "      <td>...</td>\n",
       "      <td>...</td>\n",
       "      <td>...</td>\n",
       "    </tr>\n",
       "    <tr>\n",
       "      <th>3460</th>\n",
       "      <td>VOO</td>\n",
       "      <td>20 Dec 2023</td>\n",
       "      <td>435.51</td>\n",
       "      <td>437.305</td>\n",
       "      <td>429.9000</td>\n",
       "      <td>430.09</td>\n",
       "      <td>5783200</td>\n",
       "      <td>-0.018485</td>\n",
       "    </tr>\n",
       "    <tr>\n",
       "      <th>3461</th>\n",
       "      <td>VOO</td>\n",
       "      <td>21 Dec 2023</td>\n",
       "      <td>433.13</td>\n",
       "      <td>434.640</td>\n",
       "      <td>430.8552</td>\n",
       "      <td>434.28</td>\n",
       "      <td>4621600</td>\n",
       "      <td>0.009742</td>\n",
       "    </tr>\n",
       "    <tr>\n",
       "      <th>3462</th>\n",
       "      <td>VOO</td>\n",
       "      <td>22 Dec 2023</td>\n",
       "      <td>435.46</td>\n",
       "      <td>436.838</td>\n",
       "      <td>433.4800</td>\n",
       "      <td>435.29</td>\n",
       "      <td>4037800</td>\n",
       "      <td>0.002326</td>\n",
       "    </tr>\n",
       "    <tr>\n",
       "      <th>3463</th>\n",
       "      <td>VOO</td>\n",
       "      <td>26 Dec 2023</td>\n",
       "      <td>435.67</td>\n",
       "      <td>437.920</td>\n",
       "      <td>435.5800</td>\n",
       "      <td>437.10</td>\n",
       "      <td>3835800</td>\n",
       "      <td>0.004158</td>\n",
       "    </tr>\n",
       "    <tr>\n",
       "      <th>3464</th>\n",
       "      <td>VOO</td>\n",
       "      <td>27 Dec 2023</td>\n",
       "      <td>436.89</td>\n",
       "      <td>438.020</td>\n",
       "      <td>436.4200</td>\n",
       "      <td>437.90</td>\n",
       "      <td>4271000</td>\n",
       "      <td>0.001830</td>\n",
       "    </tr>\n",
       "  </tbody>\n",
       "</table>\n",
       "<p>3465 rows × 8 columns</p>\n",
       "</div>"
      ],
      "text/plain": [
       "     Symbol         Date    Open     High       Low   Close   Volume      Gain\n",
       "0       VOO  09 Sep 2010  102.50  102.500  101.1400  101.32    53000  0.000000\n",
       "1       VOO  10 Sep 2010  101.68  101.860  101.3000  101.78    17200  0.004540\n",
       "2       VOO  13 Sep 2010  102.96  103.140  102.5000  103.06    67500  0.012576\n",
       "3       VOO  14 Sep 2010  102.84  103.480  102.3800  103.04   118800 -0.000194\n",
       "4       VOO  15 Sep 2010  102.62  103.380  102.4000  103.30    18500  0.002523\n",
       "...     ...          ...     ...      ...       ...     ...      ...       ...\n",
       "3460    VOO  20 Dec 2023  435.51  437.305  429.9000  430.09  5783200 -0.018485\n",
       "3461    VOO  21 Dec 2023  433.13  434.640  430.8552  434.28  4621600  0.009742\n",
       "3462    VOO  22 Dec 2023  435.46  436.838  433.4800  435.29  4037800  0.002326\n",
       "3463    VOO  26 Dec 2023  435.67  437.920  435.5800  437.10  3835800  0.004158\n",
       "3464    VOO  27 Dec 2023  436.89  438.020  436.4200  437.90  4271000  0.001830\n",
       "\n",
       "[3465 rows x 8 columns]"
      ]
     },
     "execution_count": 10,
     "metadata": {},
     "output_type": "execute_result"
    }
   ],
   "source": [
    "### Add column to df_VOO for the percent change\n",
    "\n",
    "# Test to understand .iloc\n",
    "print(df_VOO.iloc[0,5]) # syntax [row,column]\n",
    "\n",
    "# Loop to calculate the percent of change\n",
    "i = 0\n",
    "percent_gain = []\n",
    "while i < len(df_VOO['Close'])-1: # iterating over 'close' column, have to go -1 the length otherwise the loop goes out of 'bounds'\n",
    "  percent_gain.append((df_VOO.iloc[i+1,5]-df_VOO.iloc[i,5])/df_VOO.iloc[i,5]) # percent change formula (x2-x1)/x1\n",
    "  i+=1\n",
    "\n",
    "# adding 0 at the begining of the list\n",
    "# recall percent change is not possible for the first date in the df\n",
    "percent_gain.insert(0,0)\n",
    "print(len(percent_gain))\n",
    "\n",
    "# Add the percent_gain list to the df\n",
    "df_VOO['Gain'] = percent_gain\n",
    "df_VOO\n"
   ]
  },
  {
   "cell_type": "markdown",
   "metadata": {
    "id": "bm2xDnDJJeAZ"
   },
   "source": [
    "### Run correlation on percent change"
   ]
  },
  {
   "cell_type": "code",
   "execution_count": 11,
   "metadata": {
    "colab": {
     "base_uri": "https://localhost:8080/",
     "height": 423
    },
    "executionInfo": {
     "elapsed": 281,
     "status": "ok",
     "timestamp": 1713655036089,
     "user": {
      "displayName": "Keith Wallace",
      "userId": "07553009819003568229"
     },
     "user_tz": 240
    },
    "id": "YjcWHuM7J4g8",
    "outputId": "34c2c06f-faed-47fe-e369-221267b0ee8a"
   },
   "outputs": [
    {
     "data": {
      "text/html": [
       "<div>\n",
       "<style scoped>\n",
       "    .dataframe tbody tr th:only-of-type {\n",
       "        vertical-align: middle;\n",
       "    }\n",
       "\n",
       "    .dataframe tbody tr th {\n",
       "        vertical-align: top;\n",
       "    }\n",
       "\n",
       "    .dataframe thead th {\n",
       "        text-align: right;\n",
       "    }\n",
       "</style>\n",
       "<table border=\"1\" class=\"dataframe\">\n",
       "  <thead>\n",
       "    <tr style=\"text-align: right;\">\n",
       "      <th></th>\n",
       "      <th>Date</th>\n",
       "      <th>Gain_x</th>\n",
       "      <th>Gain_y</th>\n",
       "    </tr>\n",
       "  </thead>\n",
       "  <tbody>\n",
       "    <tr>\n",
       "      <th>0</th>\n",
       "      <td>02 Jan 2023</td>\n",
       "      <td>0.000000</td>\n",
       "      <td>0.000000</td>\n",
       "    </tr>\n",
       "    <tr>\n",
       "      <th>1</th>\n",
       "      <td>03 Jan 2023</td>\n",
       "      <td>0.001737</td>\n",
       "      <td>-0.003842</td>\n",
       "    </tr>\n",
       "    <tr>\n",
       "      <th>2</th>\n",
       "      <td>04 Jan 2023</td>\n",
       "      <td>0.014344</td>\n",
       "      <td>0.007200</td>\n",
       "    </tr>\n",
       "    <tr>\n",
       "      <th>3</th>\n",
       "      <td>05 Jan 2023</td>\n",
       "      <td>-0.005459</td>\n",
       "      <td>-0.010922</td>\n",
       "    </tr>\n",
       "    <tr>\n",
       "      <th>4</th>\n",
       "      <td>06 Jan 2023</td>\n",
       "      <td>0.017513</td>\n",
       "      <td>0.022744</td>\n",
       "    </tr>\n",
       "    <tr>\n",
       "      <th>...</th>\n",
       "      <td>...</td>\n",
       "      <td>...</td>\n",
       "      <td>...</td>\n",
       "    </tr>\n",
       "    <tr>\n",
       "      <th>212</th>\n",
       "      <td>30 Oct 2023</td>\n",
       "      <td>0.019250</td>\n",
       "      <td>0.012032</td>\n",
       "    </tr>\n",
       "    <tr>\n",
       "      <th>213</th>\n",
       "      <td>31 Oct 2023</td>\n",
       "      <td>0.009278</td>\n",
       "      <td>0.006049</td>\n",
       "    </tr>\n",
       "    <tr>\n",
       "      <th>214</th>\n",
       "      <td>01 Nov 2023</td>\n",
       "      <td>0.011440</td>\n",
       "      <td>0.011011</td>\n",
       "    </tr>\n",
       "    <tr>\n",
       "      <th>215</th>\n",
       "      <td>02 Nov 2023</td>\n",
       "      <td>0.012584</td>\n",
       "      <td>0.019001</td>\n",
       "    </tr>\n",
       "    <tr>\n",
       "      <th>216</th>\n",
       "      <td>03 Nov 2023</td>\n",
       "      <td>0.006552</td>\n",
       "      <td>0.009248</td>\n",
       "    </tr>\n",
       "  </tbody>\n",
       "</table>\n",
       "<p>217 rows × 3 columns</p>\n",
       "</div>"
      ],
      "text/plain": [
       "            Date    Gain_x    Gain_y\n",
       "0    02 Jan 2023  0.000000  0.000000\n",
       "1    03 Jan 2023  0.001737 -0.003842\n",
       "2    04 Jan 2023  0.014344  0.007200\n",
       "3    05 Jan 2023 -0.005459 -0.010922\n",
       "4    06 Jan 2023  0.017513  0.022744\n",
       "..           ...       ...       ...\n",
       "212  30 Oct 2023  0.019250  0.012032\n",
       "213  31 Oct 2023  0.009278  0.006049\n",
       "214  01 Nov 2023  0.011440  0.011011\n",
       "215  02 Nov 2023  0.012584  0.019001\n",
       "216  03 Nov 2023  0.006552  0.009248\n",
       "\n",
       "[217 rows x 3 columns]"
      ]
     },
     "execution_count": 11,
     "metadata": {},
     "output_type": "execute_result"
    }
   ],
   "source": [
    "### Aligning dates of the DFs\n",
    "'''\n",
    "-Use the data range of the stock to select the data range of VOO\n",
    "-Recall first date does not have a percent change\n",
    "-Intent is to have a leading indicator for VOO, so\n",
    "'''\n",
    "\n",
    "df_BRK_PC = df_BRK[['Date','Gain']].copy()\n",
    "    # .copy() to create an independant df\n",
    "df_VOO_PC = df_VOO[['Date','Gain']].copy()\n",
    "\n",
    "## Merging the two dataframes\n",
    "# already truncates VOO to the date range of the stock\n",
    "result_df = pd.merge(df_BRK_PC, df_VOO_PC, on='Date', how='inner')\n",
    "'''\n",
    "on : Use the column named \"Date\" in both DataFrames as the key to align rows. Only rows where df_BRK_PC.Date == df_VOO_PC.Date will match.\n",
    "how : The join type. An inner join keeps only the intersection of keys—that is, dates that appear in both DataFrames. Any date missing from one side is dropped.\n",
    "'''\n",
    "result_df\n",
    "\n"
   ]
  },
  {
   "cell_type": "code",
   "execution_count": 31,
   "metadata": {},
   "outputs": [
    {
     "data": {
      "text/plain": [
       "0.6409548495225923"
      ]
     },
     "execution_count": 31,
     "metadata": {},
     "output_type": "execute_result"
    }
   ],
   "source": [
    "### Correlation of the stock to VOO, straight (no time shift)\n",
    "result_df['Gain_x'].corr(result_df['Gain_y'])"
   ]
  },
  {
   "cell_type": "code",
   "execution_count": 33,
   "metadata": {
    "colab": {
     "base_uri": "https://localhost:8080/",
     "height": 423
    },
    "executionInfo": {
     "elapsed": 248,
     "status": "ok",
     "timestamp": 1713654952619,
     "user": {
      "displayName": "Keith Wallace",
      "userId": "07553009819003568229"
     },
     "user_tz": 240
    },
    "id": "kO_aE_SGPH_Q",
    "outputId": "9ecf32ef-fc95-40e8-cb0e-97f56b7cd1b4"
   },
   "outputs": [
    {
     "data": {
      "text/html": [
       "<div>\n",
       "<style scoped>\n",
       "    .dataframe tbody tr th:only-of-type {\n",
       "        vertical-align: middle;\n",
       "    }\n",
       "\n",
       "    .dataframe tbody tr th {\n",
       "        vertical-align: top;\n",
       "    }\n",
       "\n",
       "    .dataframe thead th {\n",
       "        text-align: right;\n",
       "    }\n",
       "</style>\n",
       "<table border=\"1\" class=\"dataframe\">\n",
       "  <thead>\n",
       "    <tr style=\"text-align: right;\">\n",
       "      <th></th>\n",
       "      <th>Gain_x</th>\n",
       "      <th>Gain_y</th>\n",
       "    </tr>\n",
       "  </thead>\n",
       "  <tbody>\n",
       "    <tr>\n",
       "      <th>2</th>\n",
       "      <td>0.001737</td>\n",
       "      <td>0.007200</td>\n",
       "    </tr>\n",
       "    <tr>\n",
       "      <th>3</th>\n",
       "      <td>0.014344</td>\n",
       "      <td>-0.010922</td>\n",
       "    </tr>\n",
       "    <tr>\n",
       "      <th>4</th>\n",
       "      <td>-0.005459</td>\n",
       "      <td>0.022744</td>\n",
       "    </tr>\n",
       "    <tr>\n",
       "      <th>5</th>\n",
       "      <td>0.017513</td>\n",
       "      <td>-0.000729</td>\n",
       "    </tr>\n",
       "    <tr>\n",
       "      <th>6</th>\n",
       "      <td>-0.007408</td>\n",
       "      <td>0.007128</td>\n",
       "    </tr>\n",
       "    <tr>\n",
       "      <th>...</th>\n",
       "      <td>...</td>\n",
       "      <td>...</td>\n",
       "    </tr>\n",
       "    <tr>\n",
       "      <th>211</th>\n",
       "      <td>-0.004440</td>\n",
       "      <td>-0.004433</td>\n",
       "    </tr>\n",
       "    <tr>\n",
       "      <th>212</th>\n",
       "      <td>-0.013232</td>\n",
       "      <td>0.012032</td>\n",
       "    </tr>\n",
       "    <tr>\n",
       "      <th>213</th>\n",
       "      <td>0.019250</td>\n",
       "      <td>0.006049</td>\n",
       "    </tr>\n",
       "    <tr>\n",
       "      <th>214</th>\n",
       "      <td>0.009278</td>\n",
       "      <td>0.011011</td>\n",
       "    </tr>\n",
       "    <tr>\n",
       "      <th>215</th>\n",
       "      <td>0.011440</td>\n",
       "      <td>0.019001</td>\n",
       "    </tr>\n",
       "  </tbody>\n",
       "</table>\n",
       "<p>214 rows × 2 columns</p>\n",
       "</div>"
      ],
      "text/plain": [
       "       Gain_x    Gain_y\n",
       "2    0.001737  0.007200\n",
       "3    0.014344 -0.010922\n",
       "4   -0.005459  0.022744\n",
       "5    0.017513 -0.000729\n",
       "6   -0.007408  0.007128\n",
       "..        ...       ...\n",
       "211 -0.004440 -0.004433\n",
       "212 -0.013232  0.012032\n",
       "213  0.019250  0.006049\n",
       "214  0.009278  0.011011\n",
       "215  0.011440  0.019001\n",
       "\n",
       "[214 rows x 2 columns]"
      ]
     },
     "execution_count": 33,
     "metadata": {},
     "output_type": "execute_result"
    }
   ],
   "source": [
    "### Shift VOO\n",
    "'''\n",
    "Need to shift VOO pc down one. The intent is to have a leading indicator for VOO.\n",
    "So performance on the stock the day before predicts the next day on VOO\n",
    "'''\n",
    "#remove date column\n",
    "df1 = result_df.drop(['Date'], axis=1)\n",
    "\n",
    "# shifting the stock down one to align the stock to next day's VOO value\n",
    "df1['Gain_x'] = df1.Gain_x.shift(1,fill_value=0) # Shifting the stock\n",
    "  # resource https://www.tutorialspoint.com/how-to-shift-a-column-in-a-pandas-dataframe\n",
    "  # resource https://towardsdatascience.com/all-the-pandas-shift-you-should-know-for-data-analysis-791c1692b5e\n",
    "\n",
    "# Removing the first two rows and the last\n",
    "df2 = df1.drop([0,1,len(df1['Gain_y'])-1])\n",
    "df2"
   ]
  },
  {
   "cell_type": "code",
   "execution_count": 34,
   "metadata": {
    "colab": {
     "base_uri": "https://localhost:8080/",
     "height": 112
    },
    "executionInfo": {
     "elapsed": 264,
     "status": "ok",
     "timestamp": 1713655102032,
     "user": {
      "displayName": "Keith Wallace",
      "userId": "07553009819003568229"
     },
     "user_tz": 240
    },
    "id": "ZfxQE-ZoRFv7",
    "outputId": "0eb1c0d0-7ef3-4989-e8d8-7a7f6e872723"
   },
   "outputs": [
    {
     "data": {
      "text/html": [
       "<div>\n",
       "<style scoped>\n",
       "    .dataframe tbody tr th:only-of-type {\n",
       "        vertical-align: middle;\n",
       "    }\n",
       "\n",
       "    .dataframe tbody tr th {\n",
       "        vertical-align: top;\n",
       "    }\n",
       "\n",
       "    .dataframe thead th {\n",
       "        text-align: right;\n",
       "    }\n",
       "</style>\n",
       "<table border=\"1\" class=\"dataframe\">\n",
       "  <thead>\n",
       "    <tr style=\"text-align: right;\">\n",
       "      <th></th>\n",
       "      <th>Gain_x</th>\n",
       "      <th>Gain_y</th>\n",
       "    </tr>\n",
       "  </thead>\n",
       "  <tbody>\n",
       "    <tr>\n",
       "      <th>Gain_x</th>\n",
       "      <td>1.000000</td>\n",
       "      <td>0.022988</td>\n",
       "    </tr>\n",
       "    <tr>\n",
       "      <th>Gain_y</th>\n",
       "      <td>0.022988</td>\n",
       "      <td>1.000000</td>\n",
       "    </tr>\n",
       "  </tbody>\n",
       "</table>\n",
       "</div>"
      ],
      "text/plain": [
       "          Gain_x    Gain_y\n",
       "Gain_x  1.000000  0.022988\n",
       "Gain_y  0.022988  1.000000"
      ]
     },
     "execution_count": 34,
     "metadata": {},
     "output_type": "execute_result"
    }
   ],
   "source": [
    "### Find correlation\n",
    "df2.corr(method='pearson')"
   ]
  },
  {
   "cell_type": "code",
   "execution_count": 35,
   "metadata": {
    "id": "z6T4Vh7vfzs2"
   },
   "outputs": [
    {
     "data": {
      "text/plain": [
       "0.022987945745582314"
      ]
     },
     "execution_count": 35,
     "metadata": {},
     "output_type": "execute_result"
    }
   ],
   "source": [
    "df2['Gain_x'].corr(df2['Gain_y'], method = 'pearson')"
   ]
  },
  {
   "cell_type": "markdown",
   "metadata": {},
   "source": [
    "## Iterate through all the stocks to generate correlations"
   ]
  },
  {
   "cell_type": "code",
   "execution_count": 41,
   "metadata": {},
   "outputs": [
    {
     "data": {
      "text/plain": [
       "3153"
      ]
     },
     "execution_count": 41,
     "metadata": {},
     "output_type": "execute_result"
    }
   ],
   "source": [
    "df_NYSE['Symbol'].nunique() # Returns an integer: the count of unique values\n",
    "    # .unique() Returns an array of all distinct values in the column."
   ]
  },
  {
   "cell_type": "code",
   "execution_count": 53,
   "metadata": {},
   "outputs": [
    {
     "data": {
      "text/plain": [
       "array(['A', 'AA', 'AAC', ..., 'BFX', 'NLOP', 'TRAK'], dtype=object)"
      ]
     },
     "execution_count": 53,
     "metadata": {},
     "output_type": "execute_result"
    }
   ],
   "source": [
    "df_NYSE['Symbol'].unique()"
   ]
  },
  {
   "cell_type": "code",
   "execution_count": 51,
   "metadata": {},
   "outputs": [
    {
     "data": {
      "text/plain": [
       "651636"
      ]
     },
     "execution_count": 51,
     "metadata": {},
     "output_type": "execute_result"
    }
   ],
   "source": [
    "'''\n",
    ".shape returns a tuple: (number_of_rows, number_of_columns)\n",
    "So df.shape[0] gives you the row count\n",
    "Or df.shape[1] gives you the column count\n",
    "\n",
    "an alternative would be to use len(df_NYSE)\n",
    "'''\n",
    "df_NYSE.shape[0]"
   ]
  },
  {
   "cell_type": "code",
   "execution_count": 72,
   "metadata": {},
   "outputs": [
    {
     "name": "stdout",
     "output_type": "stream",
     "text": [
      "  Symbol         Date    Open    High     Low   Close  Volume\n",
      "0      A  02 Jan 2023  149.65  149.65  149.65  149.65       0\n",
      "  Symbol         Date   Open   High    Low  Close  Volume\n",
      "1     AA  02 Jan 2023  45.47  45.47  45.47  45.47       0\n",
      "  Symbol         Date   Open   High    Low  Close  Volume\n",
      "2    AAC  02 Jan 2023  10.07  10.07  10.07  10.07       0\n",
      "  Symbol         Date   Open   High    Low  Close  Volume\n",
      "3  AAC.U  02 Jan 2023  10.17  10.17  10.17  10.17       0\n",
      "  Symbol         Date    Open    High     Low   Close  Volume\n",
      "4  AAC.W  02 Jan 2023  0.4663  0.4663  0.4663  0.4663       0\n",
      "  Symbol         Date   Open   High    Low  Close  Volume\n",
      "5  AAI-B  02 Jan 2023  17.67  17.67  17.67  17.67       0\n",
      "  Symbol         Date     Open     High      Low    Close  Volume\n",
      "6  AAI-C  02 Jan 2023  21.0899  21.0899  21.0899  21.0899       0\n",
      "  Symbol         Date  Open  High   Low  Close  Volume\n",
      "7   AAIC  02 Jan 2023  2.93  2.93  2.93   2.93       0\n",
      "  Symbol         Date  Open  High   Low  Close  Volume\n",
      "8   AAIN  02 Jan 2023  23.5  23.5  23.5   23.5       0\n",
      "  Symbol         Date   Open   High    Low  Close  Volume\n",
      "9  AAM-A  02 Jan 2023  21.84  21.84  21.84  21.84       0\n",
      "   Symbol         Date   Open   High    Low  Close  Volume\n",
      "10  AAM-B  02 Jan 2023  21.69  21.69  21.69  21.69       0\n",
      "   Symbol         Date   Open   High    Low  Close  Volume\n",
      "11    AAN  02 Jan 2023  11.95  11.95  11.95  11.95       0\n",
      "   Symbol         Date    Open    High     Low   Close  Volume\n",
      "12    AAP  02 Jan 2023  147.03  147.03  147.03  147.03       0\n",
      "   Symbol         Date  Open  High   Low  Close  Volume\n",
      "13    AAT  02 Jan 2023  26.5  26.5  26.5   26.5       0\n",
      "   Symbol         Date   Open   High    Low  Close  Volume\n",
      "14     AB  02 Jan 2023  34.37  34.37  34.37  34.37       0\n",
      "   Symbol         Date    Open    High     Low   Close  Volume\n",
      "15   ABBV  02 Jan 2023  161.61  161.61  161.61  161.61       0\n",
      "   Symbol         Date  Open  High   Low  Close  Volume\n",
      "16   ABEV  02 Jan 2023  2.72  2.72  2.72   2.72       0\n",
      "   Symbol         Date    Open    High     Low   Close  Volume\n",
      "17    ABG  02 Jan 2023  179.25  179.25  179.25  179.25       0\n",
      "   Symbol         Date   Open   High    Low  Close  Volume\n",
      "18    ABM  02 Jan 2023  44.42  44.42  44.42  44.42       0\n",
      "   Symbol         Date   Open   High    Low  Close  Volume\n",
      "19    ABR  02 Jan 2023  13.19  13.19  13.19  13.19       0\n",
      "   Symbol         Date   Open   High    Low  Close  Volume\n",
      "20  ABR-D  02 Jan 2023  17.26  17.26  17.26  17.26       0\n",
      "   Symbol         Date   Open   High    Low  Close  Volume\n",
      "21  ABR-E  02 Jan 2023  16.61  16.61  16.61  16.61       0\n",
      "   Symbol         Date   Open   High    Low  Close  Volume\n",
      "22  ABR-F  02 Jan 2023  18.11  18.11  18.11  18.11       0\n",
      "   Symbol         Date    Open    High     Low   Close  Volume\n",
      "23    ABT  02 Jan 2023  109.79  109.79  109.79  109.79       0\n",
      "   Symbol         Date   Open   High    Low  Close  Volume\n",
      "24     AC  02 Jan 2023  41.99  41.99  41.99  41.99       0\n",
      "   Symbol         Date   Open   High    Low  Close  Volume\n",
      "25    ACA  02 Jan 2023  54.34  54.34  54.34  54.34       0\n",
      "   Symbol         Date  Open  High   Low  Close  Volume\n",
      "26   ACCO  02 Jan 2023  5.59  5.59  5.59   5.59       0\n",
      "   Symbol         Date  Open  High  Low  Close  Volume\n",
      "27   ACEL  02 Jan 2023   7.7   7.7  7.7    7.7       0\n",
      "   Symbol         Date   Open   High    Low  Close  Volume\n",
      "28  ACH.W  02 Jan 2023  0.257  0.257  0.257  0.257       0\n",
      "   Symbol         Date  Open  High   Low  Close  Volume\n",
      "29   ACHR  02 Jan 2023  1.87  1.87  1.87   1.87       0\n",
      "   Symbol         Date   Open   High    Low  Close  Volume\n",
      "30    ACI  02 Jan 2023  20.74  20.74  20.74  20.74       0\n",
      "   Symbol         Date   Open   High    Low  Close  Volume\n",
      "31    ACM  02 Jan 2023  84.93  84.93  84.93  84.93       0\n",
      "   Symbol         Date    Open    High     Low   Close  Volume\n",
      "32    ACN  02 Jan 2023  266.84  266.84  266.84  266.84       0\n",
      "   Symbol         Date  Open  High   Low  Close  Volume\n",
      "33    ACP  02 Jan 2023  6.78  6.78  6.78   6.78       0\n",
      "   Symbol         Date    Open    High     Low   Close  Volume\n",
      "34  ACP-A  02 Jan 2023  20.765  20.765  20.765  20.765       0\n",
      "   Symbol         Date  Open  High   Low  Close  Volume\n",
      "35    ACR  02 Jan 2023  8.26  8.26  8.26   8.26       0\n",
      "   Symbol         Date   Open   High    Low  Close  Volume\n",
      "36  ACR-C  02 Jan 2023  19.77  19.77  19.77  19.77       0\n",
      "   Symbol         Date   Open   High    Low  Close  Volume\n",
      "37  ACR-D  02 Jan 2023  17.85  17.85  17.85  17.85       0\n",
      "   Symbol         Date  Open  High   Low  Close  Volume\n",
      "38  ACR.U  02 Jan 2023  9.97  9.97  9.97   9.97       0\n"
     ]
    },
    {
     "ename": "KeyboardInterrupt",
     "evalue": "",
     "output_type": "error",
     "traceback": [
      "\u001b[1;31m---------------------------------------------------------------------------\u001b[0m",
      "\u001b[1;31mKeyboardInterrupt\u001b[0m                         Traceback (most recent call last)",
      "Cell \u001b[1;32mIn[72], line 5\u001b[0m\n\u001b[0;32m      2\u001b[0m unique_stocks \u001b[38;5;241m=\u001b[39m df_NYSE[\u001b[38;5;124m'\u001b[39m\u001b[38;5;124mSymbol\u001b[39m\u001b[38;5;124m'\u001b[39m]\u001b[38;5;241m.\u001b[39munique()\n\u001b[0;32m      4\u001b[0m \u001b[38;5;28;01mfor\u001b[39;00m ticker \u001b[38;5;129;01min\u001b[39;00m unique_stocks:\n\u001b[1;32m----> 5\u001b[0m     df_ticker \u001b[38;5;241m=\u001b[39m df_ticker \u001b[38;5;241m=\u001b[39m df_NYSE[\u001b[43mdf_NYSE\u001b[49m\u001b[43m[\u001b[49m\u001b[38;5;124;43m'\u001b[39;49m\u001b[38;5;124;43mSymbol\u001b[39;49m\u001b[38;5;124;43m'\u001b[39;49m\u001b[43m]\u001b[49m\u001b[43m \u001b[49m\u001b[38;5;241;43m==\u001b[39;49m\u001b[43m \u001b[49m\u001b[43mticker\u001b[49m]\u001b[38;5;241m.\u001b[39mcopy()\n\u001b[0;32m      6\u001b[0m     \u001b[38;5;28mprint\u001b[39m(df_ticker\u001b[38;5;241m.\u001b[39mhead(\u001b[38;5;241m1\u001b[39m))\n",
      "File \u001b[1;32m~\\Documents\\DS_Projects\\SP500_Predict\\env\\Lib\\site-packages\\pandas\\core\\ops\\common.py:76\u001b[0m, in \u001b[0;36m_unpack_zerodim_and_defer.<locals>.new_method\u001b[1;34m(self, other)\u001b[0m\n\u001b[0;32m     72\u001b[0m             \u001b[38;5;28;01mreturn\u001b[39;00m \u001b[38;5;28mNotImplemented\u001b[39m\n\u001b[0;32m     74\u001b[0m other \u001b[38;5;241m=\u001b[39m item_from_zerodim(other)\n\u001b[1;32m---> 76\u001b[0m \u001b[38;5;28;01mreturn\u001b[39;00m \u001b[43mmethod\u001b[49m\u001b[43m(\u001b[49m\u001b[38;5;28;43mself\u001b[39;49m\u001b[43m,\u001b[49m\u001b[43m \u001b[49m\u001b[43mother\u001b[49m\u001b[43m)\u001b[49m\n",
      "File \u001b[1;32m~\\Documents\\DS_Projects\\SP500_Predict\\env\\Lib\\site-packages\\pandas\\core\\arraylike.py:40\u001b[0m, in \u001b[0;36mOpsMixin.__eq__\u001b[1;34m(self, other)\u001b[0m\n\u001b[0;32m     38\u001b[0m \u001b[38;5;129m@unpack_zerodim_and_defer\u001b[39m(\u001b[38;5;124m\"\u001b[39m\u001b[38;5;124m__eq__\u001b[39m\u001b[38;5;124m\"\u001b[39m)\n\u001b[0;32m     39\u001b[0m \u001b[38;5;28;01mdef\u001b[39;00m \u001b[38;5;21m__eq__\u001b[39m(\u001b[38;5;28mself\u001b[39m, other):\n\u001b[1;32m---> 40\u001b[0m     \u001b[38;5;28;01mreturn\u001b[39;00m \u001b[38;5;28;43mself\u001b[39;49m\u001b[38;5;241;43m.\u001b[39;49m\u001b[43m_cmp_method\u001b[49m\u001b[43m(\u001b[49m\u001b[43mother\u001b[49m\u001b[43m,\u001b[49m\u001b[43m \u001b[49m\u001b[43moperator\u001b[49m\u001b[38;5;241;43m.\u001b[39;49m\u001b[43meq\u001b[49m\u001b[43m)\u001b[49m\n",
      "File \u001b[1;32m~\\Documents\\DS_Projects\\SP500_Predict\\env\\Lib\\site-packages\\pandas\\core\\series.py:6110\u001b[0m, in \u001b[0;36mSeries._cmp_method\u001b[1;34m(self, other, op)\u001b[0m\n\u001b[0;32m   6107\u001b[0m lvalues \u001b[38;5;241m=\u001b[39m \u001b[38;5;28mself\u001b[39m\u001b[38;5;241m.\u001b[39m_values\n\u001b[0;32m   6108\u001b[0m rvalues \u001b[38;5;241m=\u001b[39m extract_array(other, extract_numpy\u001b[38;5;241m=\u001b[39m\u001b[38;5;28;01mTrue\u001b[39;00m, extract_range\u001b[38;5;241m=\u001b[39m\u001b[38;5;28;01mTrue\u001b[39;00m)\n\u001b[1;32m-> 6110\u001b[0m res_values \u001b[38;5;241m=\u001b[39m \u001b[43mops\u001b[49m\u001b[38;5;241;43m.\u001b[39;49m\u001b[43mcomparison_op\u001b[49m\u001b[43m(\u001b[49m\u001b[43mlvalues\u001b[49m\u001b[43m,\u001b[49m\u001b[43m \u001b[49m\u001b[43mrvalues\u001b[49m\u001b[43m,\u001b[49m\u001b[43m \u001b[49m\u001b[43mop\u001b[49m\u001b[43m)\u001b[49m\n\u001b[0;32m   6112\u001b[0m \u001b[38;5;28;01mreturn\u001b[39;00m \u001b[38;5;28mself\u001b[39m\u001b[38;5;241m.\u001b[39m_construct_result(res_values, name\u001b[38;5;241m=\u001b[39mres_name)\n",
      "File \u001b[1;32m~\\Documents\\DS_Projects\\SP500_Predict\\env\\Lib\\site-packages\\pandas\\core\\ops\\array_ops.py:344\u001b[0m, in \u001b[0;36mcomparison_op\u001b[1;34m(left, right, op)\u001b[0m\n\u001b[0;32m    341\u001b[0m     \u001b[38;5;28;01mreturn\u001b[39;00m invalid_comparison(lvalues, rvalues, op)\n\u001b[0;32m    343\u001b[0m \u001b[38;5;28;01melif\u001b[39;00m lvalues\u001b[38;5;241m.\u001b[39mdtype \u001b[38;5;241m==\u001b[39m \u001b[38;5;28mobject\u001b[39m \u001b[38;5;129;01mor\u001b[39;00m \u001b[38;5;28misinstance\u001b[39m(rvalues, \u001b[38;5;28mstr\u001b[39m):\n\u001b[1;32m--> 344\u001b[0m     res_values \u001b[38;5;241m=\u001b[39m \u001b[43mcomp_method_OBJECT_ARRAY\u001b[49m\u001b[43m(\u001b[49m\u001b[43mop\u001b[49m\u001b[43m,\u001b[49m\u001b[43m \u001b[49m\u001b[43mlvalues\u001b[49m\u001b[43m,\u001b[49m\u001b[43m \u001b[49m\u001b[43mrvalues\u001b[49m\u001b[43m)\u001b[49m\n\u001b[0;32m    346\u001b[0m \u001b[38;5;28;01melse\u001b[39;00m:\n\u001b[0;32m    347\u001b[0m     res_values \u001b[38;5;241m=\u001b[39m _na_arithmetic_op(lvalues, rvalues, op, is_cmp\u001b[38;5;241m=\u001b[39m\u001b[38;5;28;01mTrue\u001b[39;00m)\n",
      "File \u001b[1;32m~\\Documents\\DS_Projects\\SP500_Predict\\env\\Lib\\site-packages\\pandas\\core\\ops\\array_ops.py:130\u001b[0m, in \u001b[0;36mcomp_method_OBJECT_ARRAY\u001b[1;34m(op, x, y)\u001b[0m\n\u001b[0;32m    128\u001b[0m \u001b[38;5;28;01melse\u001b[39;00m:\n\u001b[0;32m    129\u001b[0m     result \u001b[38;5;241m=\u001b[39m libops\u001b[38;5;241m.\u001b[39mscalar_compare(x\u001b[38;5;241m.\u001b[39mravel(), y, op)\n\u001b[1;32m--> 130\u001b[0m \u001b[38;5;28;01mreturn\u001b[39;00m \u001b[43mresult\u001b[49m\u001b[38;5;241;43m.\u001b[39;49m\u001b[43mreshape\u001b[49m\u001b[43m(\u001b[49m\u001b[43mx\u001b[49m\u001b[38;5;241;43m.\u001b[39;49m\u001b[43mshape\u001b[49m\u001b[43m)\u001b[49m\n",
      "\u001b[1;31mKeyboardInterrupt\u001b[0m: "
     ]
    }
   ],
   "source": [
    "### Loop\n",
    "unique_stocks = df_NYSE['Symbol'].unique()\n",
    "\n",
    "for ticker in unique_stocks:\n",
    "    df_ticker = df_ticker = df_NYSE[df_NYSE['Symbol'] == ticker].copy()\n",
    "    print(df_ticker.head(1))"
   ]
  },
  {
   "cell_type": "code",
   "execution_count": null,
   "metadata": {},
   "outputs": [],
   "source": []
  }
 ],
 "metadata": {
  "colab": {
   "authorship_tag": "ABX9TyOxcVPky63JTttWCUDc62Ea",
   "mount_file_id": "1UTmf1ZE2ZLANYNbyd8CNv7IVaoKpc-Mw",
   "provenance": []
  },
  "kernelspec": {
   "display_name": "Python 3 (ipykernel)",
   "language": "python",
   "name": "python3"
  },
  "language_info": {
   "codemirror_mode": {
    "name": "ipython",
    "version": 3
   },
   "file_extension": ".py",
   "mimetype": "text/x-python",
   "name": "python",
   "nbconvert_exporter": "python",
   "pygments_lexer": "ipython3",
   "version": "3.12.3"
  }
 },
 "nbformat": 4,
 "nbformat_minor": 4
}
