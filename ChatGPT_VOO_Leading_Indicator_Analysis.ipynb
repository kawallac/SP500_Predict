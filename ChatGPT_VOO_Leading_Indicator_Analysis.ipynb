{
 "cells": [
  {
   "cell_type": "markdown",
   "metadata": {},
   "source": [
    "# Finding Leading Indicator Stocks for Predicting VOO\n",
    "This notebook includes reusable functions to:\n",
    "- Preprocess stock data\n",
    "- Calculate returns\n",
    "- Identify top correlated stocks with VOO's next-day movement"
   ]
  },
  {
   "cell_type": "code",
   "execution_count": null,
   "metadata": {},
   "outputs": [],
   "source": [
    "# Imports\n",
    "import pandas as pd\n",
    "import numpy as np"
   ]
  },
  {
   "cell_type": "code",
   "execution_count": null,
   "metadata": {},
   "outputs": [],
   "source": [
    "# Function to preprocess and compute returns\n",
    "def preprocess_data(df_nyse, df_voo):\n",
    "    df_nyse['Date'] = pd.to_datetime(df_nyse['Date'], format='%d %b %Y')\n",
    "    df_voo['Date'] = pd.to_datetime(df_voo['Date'], format='%d %b %Y')\n",
    "    df_nyse.sort_values(by=['Symbol', 'Date'], inplace=True)\n",
    "    df_voo.sort_values(by='Date', inplace=True)\n",
    "    df_nyse['Return'] = df_nyse.groupby('Symbol')['Close'].pct_change()\n",
    "    df_voo['Return'] = df_voo['Close'].pct_change()\n",
    "    df_voo['Target'] = df_voo['Return'].shift(-1) > 0\n",
    "    df_voo.dropna(inplace=True)\n",
    "    return df_nyse.dropna(subset=['Return']), df_voo"
   ]
  },
  {
   "cell_type": "code",
   "execution_count": null,
   "metadata": {},
   "outputs": [],
   "source": [
    "# Function to select top N most liquid stocks\n",
    "def get_most_liquid_stocks(df_nyse, top_n=100):\n",
    "    avg_volume = df_nyse.groupby('Symbol')['Volume'].mean().sort_values(ascending=False)\n",
    "    return avg_volume.head(top_n).index.tolist()"
   ]
  },
  {
   "cell_type": "code",
   "execution_count": null,
   "metadata": {},
   "outputs": [],
   "source": [
    "# Function to compute correlations and identify top leading indicators\n",
    "def find_top_correlated_stocks(df_nyse, df_voo, top_n=5):\n",
    "    liquid_symbols = get_most_liquid_stocks(df_nyse)\n",
    "    df_filtered = df_nyse[df_nyse['Symbol'].isin(liquid_symbols)]\n",
    "    df_filtered['Return'] = df_filtered.groupby('Symbol')['Close'].pct_change()\n",
    "    df_pivot = df_filtered.pivot(index='Date', columns='Symbol', values='Return')\n",
    "    df_model = pd.merge(df_voo[['Date', 'Target']], df_pivot, on='Date', how='inner')\n",
    "    df_model.dropna(inplace=True)\n",
    "    correlations = df_model.drop(columns='Target').corrwith(df_model['Target']).sort_values(ascending=False)\n",
    "    return correlations.head(top_n)"
   ]
  }
 ],
 "metadata": {
  "kernelspec": {
   "display_name": "Python 3 (ipykernel)",
   "language": "python",
   "name": "python3"
  },
  "language_info": {
   "codemirror_mode": {
    "name": "ipython",
    "version": 3
   },
   "file_extension": ".py",
   "mimetype": "text/x-python",
   "name": "python",
   "nbconvert_exporter": "python",
   "pygments_lexer": "ipython3",
   "version": "3.12.3"
  }
 },
 "nbformat": 4,
 "nbformat_minor": 4
}
